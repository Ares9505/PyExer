{
 "cells": [
  {
   "cell_type": "code",
   "execution_count": 4,
   "id": "c5831ce5",
   "metadata": {},
   "outputs": [
    {
     "name": "stdout",
     "output_type": "stream",
     "text": [
      "Point (0, 0)\n",
      "Point (1, 2)\n"
     ]
    }
   ],
   "source": [
    "#Class method and instance method\n",
    "class Point:\n",
    "    @classmethod\n",
    "    def zero(cls):\n",
    "        return cls(0,0)\n",
    "    \n",
    "    def __init__(self, x, y):\n",
    "        self.x = x\n",
    "        self.y = y\n",
    "        \n",
    "    def draw(self):\n",
    "        print(f'Point ({self.x}, {self.y})')\n",
    "\n",
    "#class method usage\n",
    "new_point = Point.zero() #Note that the first reference is to the class\n",
    "#out\n",
    "new_point.draw() # in this case the referebce is for the object\n",
    "\n",
    "#instance method usage\n",
    "new_point2 = Point(1,2)\n",
    "#out\n",
    "new_point2.draw()\n",
    "\n",
    "#save you to fill an object incialization that recibe a lot of parameters by example"
   ]
  },
  {
   "cell_type": "markdown",
   "id": "53c2dbf7",
   "metadata": {},
   "source": [
    "### Magic Methods ###\n",
    "\\__init__\n",
    "\n",
    "\\__eq__\n",
    "\n",
    "\\__str__\n",
    "\n"
   ]
  },
  {
   "cell_type": "code",
   "execution_count": 7,
   "id": "2799faf4",
   "metadata": {},
   "outputs": [
    {
     "name": "stdout",
     "output_type": "stream",
     "text": [
      "False\n",
      "1481351085264\n",
      "1481351085120\n"
     ]
    }
   ],
   "source": [
    "class Point:  \n",
    "    def __init__(self, x, y):\n",
    "        self.x = x\n",
    "        self.y = y\n",
    "        \n",
    "p1 = Point(1,2)\n",
    "p2 = Point(1,2)\n",
    "print(p1 == p2)\n",
    "print(id(p1))\n",
    "print(id(p2))\n",
    "#the out is false cause python compare their indexeses in memory. This is the default implementation of __eq__magic function\n",
    "#thats why the __eq__ magic method most be implemented"
   ]
  },
  {
   "cell_type": "code",
   "execution_count": 9,
   "id": "85b2ca8f",
   "metadata": {},
   "outputs": [
    {
     "name": "stdout",
     "output_type": "stream",
     "text": [
      "True\n"
     ]
    }
   ],
   "source": [
    "class Point:  \n",
    "    def __init__(self, x, y):\n",
    "        self.x = x\n",
    "        self.y = y\n",
    "        \n",
    "    def __eq__(self, other):\n",
    "        return self.x == other.x and self.y == other.y\n",
    "    \n",
    "p1 = Point(1,2)\n",
    "p2 = Point(1,2)\n",
    "print(p1 == p2)"
   ]
  },
  {
   "cell_type": "markdown",
   "id": "e916dc6e",
   "metadata": {},
   "source": [
    "### A private member ### \n",
    "is defined with underscore after atribute name (ex: \\__tags)"
   ]
  },
  {
   "cell_type": "code",
   "execution_count": 11,
   "id": "27db3c5f",
   "metadata": {},
   "outputs": [
    {
     "name": "stdout",
     "output_type": "stream",
     "text": [
      "<__main__.Point object at 0x00000158E7F78E50>\n"
     ]
    }
   ],
   "source": [
    "#magic methods are called without exactly wrote them\n",
    "#in the following case __str__ is called \n",
    "print(p1)\n",
    "#the default implementation show the object name ah his direction at memory"
   ]
  },
  {
   "cell_type": "code",
   "execution_count": null,
   "id": "5cca5477",
   "metadata": {},
   "outputs": [],
   "source": [
    "class TagCloud:\n",
    "    def __int__(self):\n",
    "        self.__tags = dict\n",
    "        \n",
    "    def __add__(self, tag):\n",
    "        self.__tags[tag] = self.__tags.get(tag,0)\n",
    "    \n",
    "    def __iter__(self):\n",
    "        return iter(self.__tags)"
   ]
  },
  {
   "cell_type": "markdown",
   "id": "bb2c82e1",
   "metadata": {},
   "source": [
    "### Property ###\n",
    "Is used for validation porpuses.\n",
    "Is used so that atributes remain public"
   ]
  },
  {
   "cell_type": "code",
   "execution_count": 4,
   "id": "6f977f73",
   "metadata": {},
   "outputs": [
    {
     "ename": "ValueError",
     "evalue": "Price cannot be negative",
     "output_type": "error",
     "traceback": [
      "\u001b[1;31m---------------------------------------------------------------------------\u001b[0m",
      "\u001b[1;31mValueError\u001b[0m                                Traceback (most recent call last)",
      "\u001b[1;32m~\\AppData\\Local\\Temp\\ipykernel_12828\\751264740.py\u001b[0m in \u001b[0;36m<module>\u001b[1;34m\u001b[0m\n\u001b[0;32m     14\u001b[0m             \u001b[0mself\u001b[0m\u001b[1;33m.\u001b[0m\u001b[0m_price\u001b[0m \u001b[1;33m=\u001b[0m \u001b[0mvalue\u001b[0m\u001b[1;33m\u001b[0m\u001b[1;33m\u001b[0m\u001b[0m\n\u001b[0;32m     15\u001b[0m \u001b[1;33m\u001b[0m\u001b[0m\n\u001b[1;32m---> 16\u001b[1;33m \u001b[0mprod1\u001b[0m \u001b[1;33m=\u001b[0m \u001b[0mProduct\u001b[0m\u001b[1;33m(\u001b[0m\u001b[1;33m-\u001b[0m\u001b[1;36m12\u001b[0m\u001b[1;33m)\u001b[0m\u001b[1;33m\u001b[0m\u001b[1;33m\u001b[0m\u001b[0m\n\u001b[0m\u001b[0;32m     17\u001b[0m \u001b[0mprod1\u001b[0m\u001b[1;33m.\u001b[0m\u001b[0mprice\u001b[0m \u001b[1;33m=\u001b[0m \u001b[1;33m-\u001b[0m\u001b[1;36m11\u001b[0m\u001b[1;33m\u001b[0m\u001b[1;33m\u001b[0m\u001b[0m\n",
      "\u001b[1;32m~\\AppData\\Local\\Temp\\ipykernel_12828\\751264740.py\u001b[0m in \u001b[0;36m__init__\u001b[1;34m(self, price)\u001b[0m\n\u001b[0;32m      1\u001b[0m \u001b[1;32mclass\u001b[0m \u001b[0mProduct\u001b[0m\u001b[1;33m:\u001b[0m\u001b[1;33m\u001b[0m\u001b[1;33m\u001b[0m\u001b[0m\n\u001b[0;32m      2\u001b[0m     \u001b[1;32mdef\u001b[0m \u001b[0m__init__\u001b[0m\u001b[1;33m(\u001b[0m\u001b[0mself\u001b[0m\u001b[1;33m,\u001b[0m \u001b[0mprice\u001b[0m \u001b[1;33m)\u001b[0m\u001b[1;33m:\u001b[0m\u001b[1;33m\u001b[0m\u001b[1;33m\u001b[0m\u001b[0m\n\u001b[1;32m----> 3\u001b[1;33m         \u001b[0mself\u001b[0m\u001b[1;33m.\u001b[0m\u001b[0mprice\u001b[0m \u001b[1;33m=\u001b[0m \u001b[0mprice\u001b[0m\u001b[1;33m\u001b[0m\u001b[1;33m\u001b[0m\u001b[0m\n\u001b[0m\u001b[0;32m      4\u001b[0m \u001b[1;33m\u001b[0m\u001b[0m\n\u001b[0;32m      5\u001b[0m     \u001b[1;33m@\u001b[0m\u001b[0mproperty\u001b[0m\u001b[1;33m\u001b[0m\u001b[1;33m\u001b[0m\u001b[0m\n",
      "\u001b[1;32m~\\AppData\\Local\\Temp\\ipykernel_12828\\751264740.py\u001b[0m in \u001b[0;36mprice\u001b[1;34m(self, value)\u001b[0m\n\u001b[0;32m     10\u001b[0m     \u001b[1;32mdef\u001b[0m \u001b[0mprice\u001b[0m\u001b[1;33m(\u001b[0m\u001b[0mself\u001b[0m\u001b[1;33m,\u001b[0m \u001b[0mvalue\u001b[0m\u001b[1;33m)\u001b[0m\u001b[1;33m:\u001b[0m\u001b[1;33m\u001b[0m\u001b[1;33m\u001b[0m\u001b[0m\n\u001b[0;32m     11\u001b[0m         \u001b[1;32mif\u001b[0m \u001b[0mvalue\u001b[0m \u001b[1;33m<\u001b[0m \u001b[1;36m0\u001b[0m\u001b[1;33m:\u001b[0m\u001b[1;33m\u001b[0m\u001b[1;33m\u001b[0m\u001b[0m\n\u001b[1;32m---> 12\u001b[1;33m             \u001b[1;32mraise\u001b[0m \u001b[0mValueError\u001b[0m\u001b[1;33m(\u001b[0m\u001b[1;34m\"Price cannot be negative\"\u001b[0m\u001b[1;33m)\u001b[0m\u001b[1;33m\u001b[0m\u001b[1;33m\u001b[0m\u001b[0m\n\u001b[0m\u001b[0;32m     13\u001b[0m         \u001b[1;32melse\u001b[0m\u001b[1;33m:\u001b[0m\u001b[1;33m\u001b[0m\u001b[1;33m\u001b[0m\u001b[0m\n\u001b[0;32m     14\u001b[0m             \u001b[0mself\u001b[0m\u001b[1;33m.\u001b[0m\u001b[0m_price\u001b[0m \u001b[1;33m=\u001b[0m \u001b[0mvalue\u001b[0m\u001b[1;33m\u001b[0m\u001b[1;33m\u001b[0m\u001b[0m\n",
      "\u001b[1;31mValueError\u001b[0m: Price cannot be negative"
     ]
    }
   ],
   "source": [
    "\n",
    "class Product:\n",
    "    def __init__(self, price ):\n",
    "        self.price = price\n",
    "    \n",
    "    @property\n",
    "    def price(self):\n",
    "        return self._price\n",
    "        \n",
    "    @price.setter\n",
    "    def price(self, value):\n",
    "        if value < 0:\n",
    "            raise ValueError(\"Price cannot be negative\")\n",
    "        else:\n",
    "            self._price = value\n",
    "    \n",
    "prod1 = Product(-12)\n"
   ]
  },
  {
   "cell_type": "markdown",
   "id": "202c8e84",
   "metadata": {},
   "source": [
    "### Inheritance. Method overriding ##"
   ]
  },
  {
   "cell_type": "code",
   "execution_count": 17,
   "id": "66e34fc8",
   "metadata": {},
   "outputs": [
    {
     "name": "stdout",
     "output_type": "stream",
     "text": [
      "la , 1\n"
     ]
    }
   ],
   "source": [
    "class Animal:\n",
    "    def __init__(self, name):\n",
    "        self.name = name\n",
    "    \n",
    "    def eat(self):\n",
    "        print(\"eating\")\n",
    "        \n",
    "class Mamal(Animal):\n",
    "    def __init__(self, name, age):\n",
    "        super().__init__(name)\n",
    "        self.age = age\n",
    "\n",
    "a1 = Mamal(\"la\",1)\n",
    "print(f'{a1.name} , {a1.age}')"
   ]
  },
  {
   "cell_type": "code",
   "execution_count": null,
   "id": "fc4b0ed4",
   "metadata": {},
   "outputs": [],
   "source": []
  }
 ],
 "metadata": {
  "kernelspec": {
   "display_name": "Python 3 (ipykernel)",
   "language": "python",
   "name": "python3"
  },
  "language_info": {
   "codemirror_mode": {
    "name": "ipython",
    "version": 3
   },
   "file_extension": ".py",
   "mimetype": "text/x-python",
   "name": "python",
   "nbconvert_exporter": "python",
   "pygments_lexer": "ipython3",
   "version": "3.9.13"
  }
 },
 "nbformat": 4,
 "nbformat_minor": 5
}
